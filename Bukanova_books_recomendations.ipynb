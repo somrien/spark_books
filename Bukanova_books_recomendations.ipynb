{
 "cells": [
  {
   "cell_type": "markdown",
   "metadata": {},
   "source": [
    "Создаем спарк-сессию. Задаем переменную spark.sql.pivotMaxValues равную 20000, \n",
    "так как данных для функции pivot() будет больше дефолтного значения (10000)."
   ]
  },
  {
   "cell_type": "code",
   "execution_count": 1,
   "metadata": {},
   "outputs": [],
   "source": [
    "from pyspark import SparkContext, SQLContext\n",
    "import random\n",
    "sc = SparkContext.getOrCreate()\n",
    "spark = SQLContext(sc)"
   ]
  },
  {
   "cell_type": "code",
   "execution_count": 2,
   "metadata": {},
   "outputs": [],
   "source": [
    "import pandas as pd\n",
    "from pyspark.sql import SQLContext, SparkSession\n",
    "sqlContext = SQLContext.getOrCreate(sc)\n",
    "sparkSession = SparkSession.builder.master('local').appName(\"Book advices\").config(\"spark.sql.pivotMaxValues\", \"20000\").getOrCreate()"
   ]
  },
  {
   "cell_type": "raw",
   "metadata": {},
   "source": [
    "The Data\n",
    "The data consists of three tables: ratings, books info, and users info."
   ]
  },
  {
   "cell_type": "code",
   "execution_count": 3,
   "metadata": {},
   "outputs": [],
   "source": [
    "books = spark.read.csv('./BX-Books.csv', sep=';', header=True)\n",
    "users = spark.read.csv('./BX-Users.csv', sep=';', header=True)\n",
    "books_ratings = spark.read.csv('./BX-Book-Ratings.csv', sep=';', header=True)"
   ]
  },
  {
   "cell_type": "raw",
   "metadata": {},
   "source": [
    "Ratings Data\n",
    "The ratings data set provides a list of ratings that users have given to books. It includes 1,149,780 records and 3 fields: userID, ISBN, and rating"
   ]
  },
  {
   "cell_type": "raw",
   "metadata": {},
   "source": [
    "Посмотрим на столбцы из таблицы books_ratings"
   ]
  },
  {
   "cell_type": "code",
   "execution_count": 4,
   "metadata": {},
   "outputs": [
    {
     "name": "stdout",
     "output_type": "stream",
     "text": [
      "root\n",
      " |-- User-ID: string (nullable = true)\n",
      " |-- ISBN: string (nullable = true)\n",
      " |-- Book-Rating: string (nullable = true)\n",
      "\n"
     ]
    }
   ],
   "source": [
    "books_ratings.printSchema()"
   ]
  },
  {
   "cell_type": "raw",
   "metadata": {},
   "source": [
    "и размер"
   ]
  },
  {
   "cell_type": "code",
   "execution_count": 5,
   "metadata": {},
   "outputs": [
    {
     "name": "stdout",
     "output_type": "stream",
     "text": [
      "1149780 3\n"
     ]
    }
   ],
   "source": [
    "print(books_ratings.count(),len(books_ratings.columns))"
   ]
  },
  {
   "cell_type": "code",
   "execution_count": 6,
   "metadata": {},
   "outputs": [
    {
     "name": "stdout",
     "output_type": "stream",
     "text": [
      "+-------+----------+-----------+\n",
      "|User-ID|      ISBN|Book-Rating|\n",
      "+-------+----------+-----------+\n",
      "| 276725|034545104X|          0|\n",
      "| 276726|0155061224|          5|\n",
      "| 276727|0446520802|          0|\n",
      "| 276729|052165615X|          3|\n",
      "| 276729|0521795028|          6|\n",
      "+-------+----------+-----------+\n",
      "only showing top 5 rows\n",
      "\n"
     ]
    }
   ],
   "source": [
    "books_ratings.show(5)"
   ]
  },
  {
   "cell_type": "raw",
   "metadata": {},
   "source": [
    "Ratings Distribution"
   ]
  },
  {
   "cell_type": "markdown",
   "metadata": {},
   "source": [
    "считаем количество каждой из оценок"
   ]
  },
  {
   "cell_type": "code",
   "execution_count": 7,
   "metadata": {
    "scrolled": true
   },
   "outputs": [
    {
     "name": "stdout",
     "output_type": "stream",
     "text": [
      "+-----------+------+\n",
      "|Book-Rating| count|\n",
      "+-----------+------+\n",
      "|          7| 76457|\n",
      "|          3|  5996|\n",
      "|          8|103736|\n",
      "|          0|716109|\n",
      "|          5| 50974|\n",
      "|          6| 36924|\n",
      "|          9| 67541|\n",
      "|          1|  1770|\n",
      "|         10| 78610|\n",
      "|          4|  8904|\n",
      "|          2|  2759|\n",
      "+-----------+------+\n",
      "\n"
     ]
    }
   ],
   "source": [
    "#books_ratings.select('Book-Rating')\n",
    "books_ratings.groupBy('Book-Rating').count().show()"
   ]
  },
  {
   "cell_type": "markdown",
   "metadata": {},
   "source": [
    "Покажем распределение оценок на графике"
   ]
  },
  {
   "cell_type": "code",
   "execution_count": 10,
   "metadata": {},
   "outputs": [],
   "source": [
    "data = pd.DataFrame(books_ratings.groupBy('Book-Rating').count().take(books_ratings.groupBy('Book-Rating').count().count()))\n",
    "data.columns = ['Book-Rating', 'count']\n",
    "data['Book-Rating'] = data['Book-Rating'].astype(int)\n",
    "data = data.sort_values(by='Book-Rating')\n",
    "data.index = data['Book-Rating']"
   ]
  },
  {
   "cell_type": "code",
   "execution_count": 11,
   "metadata": {},
   "outputs": [
    {
     "data": {
      "image/png": "[encoded data removed]",
      "text/plain": [
       "<matplotlib.figure.Figure at 0x8a56ba8>"
      ]
     },
     "metadata": {},
     "output_type": "display_data"
    }
   ],
   "source": [
    "import matplotlib.pyplot as plt\n",
    "plt.rc(\"font\", size=15)\n",
    "data['count'].plot(kind='bar')\n",
    "plt.title('Rating Distribution\\n')\n",
    "plt.xlabel('Rating')\n",
    "plt.ylabel('Count')\n",
    "plt.savefig('system1.png', bbox_inches='tight')\n",
    "plt.show()"
   ]
  },
  {
   "cell_type": "raw",
   "metadata": {},
   "source": [
    "Books dataset\n",
    "This dataset provides books details. It includes 271360 records and 8 fields: ISBN, book title, book author, publisher and so on."
   ]
  },
  {
   "cell_type": "code",
   "execution_count": 12,
   "metadata": {},
   "outputs": [
    {
     "name": "stdout",
     "output_type": "stream",
     "text": [
      "root\n",
      " |-- ISBN: string (nullable = true)\n",
      " |-- Book-Title: string (nullable = true)\n",
      " |-- Book-Author: string (nullable = true)\n",
      " |-- Year-Of-Publication: string (nullable = true)\n",
      " |-- Publisher: string (nullable = true)\n",
      " |-- Image-URL-S: string (nullable = true)\n",
      " |-- Image-URL-M: string (nullable = true)\n",
      " |-- Image-URL-L: string (nullable = true)\n",
      "\n"
     ]
    }
   ],
   "source": [
    "books.printSchema()"
   ]
  },
  {
   "cell_type": "code",
   "execution_count": 13,
   "metadata": {},
   "outputs": [
    {
     "name": "stdout",
     "output_type": "stream",
     "text": [
      "271379 8\n"
     ]
    }
   ],
   "source": [
    "print(books.count(),len(books.columns))"
   ]
  },
  {
   "cell_type": "code",
   "execution_count": 14,
   "metadata": {},
   "outputs": [
    {
     "name": "stdout",
     "output_type": "stream",
     "text": [
      "+----------+--------------------+--------------------+-------------------+--------------------+--------------------+--------------------+--------------------+\n",
      "|      ISBN|          Book-Title|         Book-Author|Year-Of-Publication|           Publisher|         Image-URL-S|         Image-URL-M|         Image-URL-L|\n",
      "+----------+--------------------+--------------------+-------------------+--------------------+--------------------+--------------------+--------------------+\n",
      "|0195153448| Classical Mythology|  Mark P. O. Morford|               2002|Oxford University...|http://images.ama...|http://images.ama...|http://images.ama...|\n",
      "|0002005018|        Clara Callan|Richard Bruce Wright|               2001|HarperFlamingo Ca...|http://images.ama...|http://images.ama...|http://images.ama...|\n",
      "|0060973129|Decision in Normandy|        Carlo D'Este|               1991|     HarperPerennial|http://images.ama...|http://images.ama...|http://images.ama...|\n",
      "|0374157065|Flu: The Story of...|    Gina Bari Kolata|               1999|Farrar Straus Giroux|http://images.ama...|http://images.ama...|http://images.ama...|\n",
      "|0393045218|The Mummies of Ur...|     E. J. W. Barber|               1999|W. W. Norton &amp...|http://images.ama...|http://images.ama...|http://images.ama...|\n",
      "+----------+--------------------+--------------------+-------------------+--------------------+--------------------+--------------------+--------------------+\n",
      "only showing top 5 rows\n",
      "\n"
     ]
    }
   ],
   "source": [
    "books.show(5)"
   ]
  },
  {
   "cell_type": "markdown",
   "metadata": {},
   "source": [
    "Смотрим на топ-5 самых оцениваемых книг"
   ]
  },
  {
   "cell_type": "code",
   "execution_count": 16,
   "metadata": {
    "scrolled": true
   },
   "outputs": [
    {
     "name": "stdout",
     "output_type": "stream",
     "text": [
      "+----------+-----+\n",
      "|      ISBN|count|\n",
      "+----------+-----+\n",
      "|0971880107| 2502|\n",
      "|0316666343| 1295|\n",
      "|0385504209|  883|\n",
      "|0060928336|  732|\n",
      "|0312195516|  723|\n",
      "+----------+-----+\n",
      "only showing top 5 rows\n",
      "\n"
     ]
    }
   ],
   "source": [
    "top_rated_books = books_ratings.groupBy('ISBN').count().orderBy('count', ascending=False)\n",
    "top_rated_books.show(5)"
   ]
  },
  {
   "cell_type": "raw",
   "metadata": {},
   "source": [
    "Users dataset\n",
    "This dataset provides the user demographic information. It includes 278858 records and 3 fields: user id, location and age."
   ]
  },
  {
   "cell_type": "code",
   "execution_count": 17,
   "metadata": {},
   "outputs": [
    {
     "name": "stdout",
     "output_type": "stream",
     "text": [
      "root\n",
      " |-- User-ID: string (nullable = true)\n",
      " |-- Location: string (nullable = true)\n",
      " |-- Age: string (nullable = true)\n",
      "\n"
     ]
    }
   ],
   "source": [
    "users.printSchema()"
   ]
  },
  {
   "cell_type": "code",
   "execution_count": 18,
   "metadata": {},
   "outputs": [
    {
     "name": "stdout",
     "output_type": "stream",
     "text": [
      "278859 3\n"
     ]
    }
   ],
   "source": [
    "print(users.count(),len(users.columns))"
   ]
  },
  {
   "cell_type": "code",
   "execution_count": 19,
   "metadata": {},
   "outputs": [
    {
     "name": "stdout",
     "output_type": "stream",
     "text": [
      "+-------+--------------------+----+\n",
      "|User-ID|            Location| Age|\n",
      "+-------+--------------------+----+\n",
      "|      1|  nyc, new york, usa|NULL|\n",
      "|      2|stockton, califor...|  18|\n",
      "|      3|moscow, yukon ter...|NULL|\n",
      "|      4|porto, v.n.gaia, ...|  17|\n",
      "|      5|farnborough, hant...|NULL|\n",
      "+-------+--------------------+----+\n",
      "only showing top 5 rows\n",
      "\n"
     ]
    }
   ],
   "source": [
    "users.show(5)"
   ]
  },
  {
   "cell_type": "raw",
   "metadata": {},
   "source": [
    "Age distribution\n",
    "The most active users are among 20-30s."
   ]
  },
  {
   "cell_type": "markdown",
   "metadata": {},
   "source": [
    "смотрим на распределение возраста"
   ]
  },
  {
   "cell_type": "code",
   "execution_count": 20,
   "metadata": {},
   "outputs": [],
   "source": [
    "data = pd.DataFrame(users.select('Age').take(users.select('Age').count()))"
   ]
  },
  {
   "cell_type": "code",
   "execution_count": 21,
   "metadata": {},
   "outputs": [],
   "source": [
    "import numpy as np\n",
    "data.columns = ['Age']\n",
    "data.at[data[\"Age\"] == 'NULL','Age'] = np.nan\n",
    "data[\"Age\"] = data[\"Age\"].astype(float, errors='ignore')"
   ]
  },
  {
   "cell_type": "code",
   "execution_count": 22,
   "metadata": {},
   "outputs": [
    {
     "data": {
      "text/plain": [
       "count    168096.000000\n",
       "mean         34.751434\n",
       "std          14.428097\n",
       "min           0.000000\n",
       "25%          24.000000\n",
       "50%          32.000000\n",
       "75%          44.000000\n",
       "max         244.000000\n",
       "Name: Age, dtype: float64"
      ]
     },
     "execution_count": 22,
     "metadata": {},
     "output_type": "execute_result"
    }
   ],
   "source": [
    "data['Age'].describe()"
   ]
  },
  {
   "cell_type": "code",
   "execution_count": 23,
   "metadata": {},
   "outputs": [
    {
     "data": {
      "image/png": "[encoded data removed]",
      "text/plain": [
       "<matplotlib.figure.Figure at 0xd796080>"
      ]
     },
     "metadata": {},
     "output_type": "display_data"
    }
   ],
   "source": [
    "plt.rc(\"font\", size=15)\n",
    "data['Age'].hist(bins=[0, 10, 20, 30, 40, 50, 100])\n",
    "plt.title('Age Distribution\\n')\n",
    "plt.xlabel('Age')\n",
    "plt.ylabel('Count')\n",
    "plt.savefig('system1.png', bbox_inches='tight')\n",
    "plt.show()"
   ]
  },
  {
   "cell_type": "raw",
   "metadata": {},
   "source": [
    "Recommendations based on rating counts"
   ]
  },
  {
   "cell_type": "markdown",
   "metadata": {},
   "source": [
    "отображаем информацию по топу-5 самых оцениваемых книг"
   ]
  },
  {
   "cell_type": "code",
   "execution_count": 24,
   "metadata": {},
   "outputs": [],
   "source": [
    "top_rated_books = books_ratings.groupBy('ISBN').count().orderBy('count', ascending=False)\n",
    "ids = top_rated_books.take(5)"
   ]
  },
  {
   "cell_type": "code",
   "execution_count": 25,
   "metadata": {},
   "outputs": [],
   "source": [
    "ids = [x[0] for x in ids]"
   ]
  },
  {
   "cell_type": "code",
   "execution_count": 26,
   "metadata": {},
   "outputs": [
    {
     "data": {
      "text/plain": [
       "['0971880107', '0316666343', '0385504209', '0060928336', '0312195516']"
      ]
     },
     "execution_count": 26,
     "metadata": {},
     "output_type": "execute_result"
    }
   ],
   "source": [
    "ids"
   ]
  },
  {
   "cell_type": "code",
   "execution_count": 27,
   "metadata": {},
   "outputs": [
    {
     "name": "stdout",
     "output_type": "stream",
     "text": [
      "+----------+--------------------+-------------+-------------------+-------------+--------------------+--------------------+--------------------+\n",
      "|      ISBN|          Book-Title|  Book-Author|Year-Of-Publication|    Publisher|         Image-URL-S|         Image-URL-M|         Image-URL-L|\n",
      "+----------+--------------------+-------------+-------------------+-------------+--------------------+--------------------+--------------------+\n",
      "|0971880107|         Wild Animus| Rich Shapero|               2004|      Too Far|http://images.ama...|http://images.ama...|http://images.ama...|\n",
      "|0316666343|The Lovely Bones:...| Alice Sebold|               2002|Little, Brown|http://images.ama...|http://images.ama...|http://images.ama...|\n",
      "|0312195516|The Red Tent (Bes...|Anita Diamant|               1998|  Picador USA|http://images.ama...|http://images.ama...|http://images.ama...|\n",
      "|0385504209|   The Da Vinci Code|    Dan Brown|               2003|    Doubleday|http://images.ama...|http://images.ama...|http://images.ama...|\n",
      "|0060928336|Divine Secrets of...|Rebecca Wells|               1997|    Perennial|http://images.ama...|http://images.ama...|http://images.ama...|\n",
      "+----------+--------------------+-------------+-------------------+-------------+--------------------+--------------------+--------------------+\n",
      "\n"
     ]
    }
   ],
   "source": [
    "from pyspark.sql.functions import col\n",
    "books.where(col('ISBN').isin(ids)).show()"
   ]
  },
  {
   "cell_type": "markdown",
   "metadata": {},
   "source": [
    "другой способ"
   ]
  },
  {
   "cell_type": "code",
   "execution_count": 28,
   "metadata": {},
   "outputs": [
    {
     "name": "stdout",
     "output_type": "stream",
     "text": [
      "+----------+--------------------+-------------+-------------------+-------------+--------------------+--------------------+--------------------+\n",
      "|      ISBN|          Book-Title|  Book-Author|Year-Of-Publication|    Publisher|         Image-URL-S|         Image-URL-M|         Image-URL-L|\n",
      "+----------+--------------------+-------------+-------------------+-------------+--------------------+--------------------+--------------------+\n",
      "|0971880107|         Wild Animus| Rich Shapero|               2004|      Too Far|http://images.ama...|http://images.ama...|http://images.ama...|\n",
      "|0316666343|The Lovely Bones:...| Alice Sebold|               2002|Little, Brown|http://images.ama...|http://images.ama...|http://images.ama...|\n",
      "|0312195516|The Red Tent (Bes...|Anita Diamant|               1998|  Picador USA|http://images.ama...|http://images.ama...|http://images.ama...|\n",
      "|0385504209|   The Da Vinci Code|    Dan Brown|               2003|    Doubleday|http://images.ama...|http://images.ama...|http://images.ama...|\n",
      "|0060928336|Divine Secrets of...|Rebecca Wells|               1997|    Perennial|http://images.ama...|http://images.ama...|http://images.ama...|\n",
      "+----------+--------------------+-------------+-------------------+-------------+--------------------+--------------------+--------------------+\n",
      "\n"
     ]
    }
   ],
   "source": [
    "most_rated_books = books.where(col('ISBN').isin(ids))\n",
    "most_rated_books.show()"
   ]
  },
  {
   "cell_type": "raw",
   "metadata": {},
   "source": [
    "Recommendations based on correlations\n",
    "Find out the average rating and the number of ratings each book received."
   ]
  },
  {
   "cell_type": "code",
   "execution_count": 29,
   "metadata": {},
   "outputs": [
    {
     "name": "stdout",
     "output_type": "stream",
     "text": [
      "+----------+------------------+------------------+\n",
      "|      ISBN|  avg(book-rating)|count(book-rating)|\n",
      "+----------+------------------+------------------+\n",
      "|0971880107|1.0195843325339728|              2502|\n",
      "|0316666343| 4.468725868725869|              1295|\n",
      "|0385504209| 4.652321630804077|               883|\n",
      "|0060928336| 3.448087431693989|               732|\n",
      "|0312195516| 4.334716459197787|               723|\n",
      "+----------+------------------+------------------+\n",
      "only showing top 5 rows\n",
      "\n"
     ]
    }
   ],
   "source": [
    "from pyspark.sql import functions as F\n",
    "\n",
    "average_rating = books_ratings.groupBy('ISBN').agg(F.mean('book-rating'), F.count('book-rating')).orderBy('count(book-rating)', ascending=False)\n",
    "average_rating.show(5)"
   ]
  },
  {
   "cell_type": "raw",
   "metadata": {},
   "source": [
    "Observation:\n",
    "In this dataet, the book that received the most ratings is not highly rated at all. So if we were set to use recommendations based on rating counts, we would definitely make mistaks here.\n",
    "To ensure statistical significance, users with less than 200 ratings, and books with less than 100 ratings are excluded."
   ]
  },
  {
   "cell_type": "markdown",
   "metadata": {},
   "source": [
    "в файле Recommender Systems - The Fundamentals.ipynb были неверно удалены книги с количеством оценок больше 100 - \n",
    "на самом деле удалялись все оценки (от 0 до 10), которых в данных меньше 100 штук (в данном случае не удалилось ничего,\n",
    "т.к. всех оценок больше)"
   ]
  },
  {
   "cell_type": "markdown",
   "metadata": {},
   "source": [
    "после удаления книг с количеством оценок больше 100 данных остается совсем мало. но в данном примере удалялись именно они \n",
    "для ускорения работы программы, т.к. корреляция для бОльшего количества данных считается достаточно долго)"
   ]
  },
  {
   "cell_type": "code",
   "execution_count": 31,
   "metadata": {},
   "outputs": [
    {
     "name": "stdout",
     "output_type": "stream",
     "text": [
      "+-------+----------+-----------+\n",
      "|User-ID|      ISBN|Book-Rating|\n",
      "+-------+----------+-----------+\n",
      "| 277427|002542730X|         10|\n",
      "| 277427|0060930535|          0|\n",
      "| 277427|0060934417|          0|\n",
      "| 277427|0061009059|          9|\n",
      "| 277427|0140067477|          0|\n",
      "| 277427|014029628X|          0|\n",
      "| 277427|014100018X|          0|\n",
      "| 277427|0142001740|          0|\n",
      "| 277427|0312966091|          0|\n",
      "| 277427|031298328X|          0|\n",
      "| 277427|0316096199|          0|\n",
      "| 277427|0316168688|          0|\n",
      "| 277427|0316284955|          0|\n",
      "| 277427|0316569321|          0|\n",
      "| 277427|0316602051|          0|\n",
      "| 277427|0316666343|          0|\n",
      "| 277427|0316776963|          8|\n",
      "| 277427|0316777730|          0|\n",
      "| 277427|0345339681|          0|\n",
      "| 277427|0345361792|          0|\n",
      "+-------+----------+-----------+\n",
      "only showing top 20 rows\n",
      "\n",
      "49781\n"
     ]
    }
   ],
   "source": [
    "counts1 = books_ratings.groupBy('User-ID').count()\n",
    "#counts1.show()\n",
    "user_ids = counts1.where(col('count') >= 200).select('User-ID').collect()\n",
    "user_ids = [ x[\"User-ID\"] for x in user_ids]\n",
    "ratings = books_ratings.where(col('User-ID').isin(user_ids))\n",
    "#ratings.show()\n",
    "counts = books_ratings.groupBy('ISBN').count()\n",
    "#print(counts.count())\n",
    "books_ids = counts.where(col('count') >= 100).select('ISBN').collect()\n",
    "#print(books_ids.count())\n",
    "books_ids = [x['ISBN'] for x in books_ids]\n",
    "#print(len(books_ids))\n",
    "#counts.show()\n",
    "ratings = ratings.where(col('ISBN').isin(books_ids))\n",
    "ratings.show()\n",
    "print(ratings.count())"
   ]
  },
  {
   "cell_type": "raw",
   "metadata": {},
   "source": [
    "Rating matrix\n",
    "Convert the table to a 2D matrix. The matrix will be sparse because not every user rate every book."
   ]
  },
  {
   "cell_type": "code",
   "execution_count": 32,
   "metadata": {},
   "outputs": [],
   "source": [
    "from pyspark.sql.functions import first\n",
    "ratings_pivot = ratings.groupBy('User-ID').pivot('ISBN').agg(first('Book-Rating'))"
   ]
  },
  {
   "cell_type": "code",
   "execution_count": 33,
   "metadata": {},
   "outputs": [
    {
     "name": "stdout",
     "output_type": "stream",
     "text": [
      "888 732\n"
     ]
    }
   ],
   "source": [
    "print(ratings_pivot.count(), len(ratings_pivot.columns))"
   ]
  },
  {
   "cell_type": "code",
   "execution_count": 34,
   "metadata": {},
   "outputs": [],
   "source": [
    "ratings_pivot = ratings_pivot.drop('User-ID')"
   ]
  },
  {
   "cell_type": "code",
   "execution_count": 35,
   "metadata": {},
   "outputs": [
    {
     "name": "stdout",
     "output_type": "stream",
     "text": [
      "888 731\n"
     ]
    }
   ],
   "source": [
    "print(ratings_pivot.count(), len(ratings_pivot.columns))"
   ]
  },
  {
   "cell_type": "markdown",
   "metadata": {},
   "source": [
    "переводим оценки в тип данных Integer"
   ]
  },
  {
   "cell_type": "code",
   "execution_count": 36,
   "metadata": {},
   "outputs": [],
   "source": [
    "from pyspark.sql.types import IntegerType\n",
    "ratings_pivot = ratings_pivot.select(*(col(c).cast(\"int\").alias(c) for c in ratings_pivot.columns))"
   ]
  },
  {
   "cell_type": "code",
   "execution_count": 37,
   "metadata": {},
   "outputs": [
    {
     "name": "stdout",
     "output_type": "stream",
     "text": [
      "888 731\n"
     ]
    }
   ],
   "source": [
    "print(ratings_pivot.count(), len(ratings_pivot.columns))"
   ]
  },
  {
   "cell_type": "raw",
   "metadata": {},
   "source": [
    "Let's find out which books are correlated with the 2nd most rated book \"The Lovely Bones: A Novel\". To blatantly quote from the Wikipedia: It is the story of a teenage girl who, after being raped and murdered, watches from her personal Heaven as her family and friends struggle to move on with their lives while she comes to terms with her own death."
   ]
  },
  {
   "cell_type": "code",
   "execution_count": 38,
   "metadata": {},
   "outputs": [
    {
     "name": "stdout",
     "output_type": "stream",
     "text": [
      "0\n",
      "50\n",
      "100\n",
      "150\n",
      "200\n",
      "250\n",
      "300\n",
      "350\n",
      "400\n",
      "450\n",
      "500\n",
      "550\n",
      "600\n",
      "650\n",
      "700\n",
      "[0.02114984679937612, -0.014196608430810456, 0.019049736543522777, -0.026338630425962625, -0.029292235101184845, 0.09668742514107928, 0.09056139632781433, -0.000707954673909693, 0.03265852974745779, 0.051571827540255175, 0.00678992863016239, 0.0818866263995274, 0.021078968500377628, 0.04024416557642337, 0.06170511959442472, 0.08972255436985692, 0.12842607210826607, 0.14567419619147484, 0.08983420956738446, 0.12662870470148188, 0.07030742046317787, 0.07812437320403917, 0.0021262277010224134, 0.0704642316431199, 0.043490568216024414, 0.04960659119574528, 0.165711188814135, 0.1255671202450514, 0.04881773636249712, 0.0680465899261919, 0.004394986702995633, -0.0026148340234678235, 0.04735358095309549, 0.07806108023756865, 0.07903183454744522, 0.03327783923803971, -0.044158728775577104, 0.005569771247883874, 0.05920941057684971, 0.051709831820436356, 0.056010831091149856, 0.08793970188839811, 0.009470084505218966, 0.005302923866089577, 0.09758894139145197, -0.026717691637914643, 0.0038646153071115606, 0.10689262847276199, 2.894086245067562e-06, 0.10087650228191596, 0.0002321185693405371, 0.13548292864913972, 0.05219880809009384, 0.038004574934857725, 0.06582541208958821, 0.09368416010494712, 0.06832814320572188, 0.004769768370146879, 0.022658820821538275, 0.03665722887082062, 0.07308434457879923, 0.0961189654862909, 0.08280747366170593, 0.05798297752817217, -0.02324107911714218, 0.10257985773723531, 0.136051682037979, -0.01576713529282949, 0.04859073467716914, 0.07867032582118186, 0.06799834409577447, 0.13507962912276664, 0.10427799813511551, 0.11532344661187456, 0.05006123895495704, 0.09260013026368018, 0.1074067356883034, 0.019054131632265367, 0.04031708450720394, 0.13962487001862467, -0.0006218046593774225, -0.023074350235066196, 0.05266042000127568, -0.030007648342879275, 0.04648890094825484, 0.03002966142903027, -0.0373551771921455, 0.029061850451183768, -0.05190370297279965, 0.033073849008188654, 0.021894850665864135, 0.03958439434113854, 0.08282515073323558, 0.026786838128367255, -0.0015282273012222646, 0.032776271887689175, 0.04097280425415118, -0.015075801014459803, 0.0018507993456283421, 0.17164978415283214, 0.036377045662073025, 0.07826676038436144, 0.1558972693637897, 0.07011984651146529, 0.17186321371594032, 0.11838295066603594, 0.10593360114105171, 0.029542098310262766, 1.0, 0.09721218165920442, 0.11368340366359736, 0.11546259798076954, 0.07603225366386918, 0.06998383288352143, -0.005742449803664566, -0.011499184937920475, 0.004154819694246032, -0.011320556860061613, 0.09848650127399429, 0.05214397574731114, 0.10922302538361095, 0.09748868879523336, 0.04203634092859314, 0.08661789344331991, 0.15923285537235238, 0.038763086428548255, -0.044834850163793384, 0.03203019110515527, -0.05041674641031055, -0.01124849696963908, 0.005807728766682888, -0.04212080704149139, -0.04176873307471357, 0.060373968754057615, 0.013354563155210272, 0.024199458340617378, -0.002879569397715125, 0.009783836755064354, 0.02220165369665688, 0.050582840462169196, 0.10576995337071403, 0.012637074339013739, -0.006349222725440169, 0.013830045683373886, 0.03840780659995313, 0.09277338564152722, 0.02857496997812647, 0.03344570012072656, 0.051589667016306635, -0.017435610868191738, 0.042690036230774726, 0.059696263846233895, -0.041877358759243595, 0.04196647264655135, 0.09909973238149221, 0.12101603225717454, 0.02702777099309471, 0.0223688926956259, -0.03543107714211646, -0.037837799005218845, 0.05626571538822059, 0.004592279724132363, 0.08260413141620586, 0.07689555071486945, 0.010949189957592958, 0.0818283918384441, 0.123019044238589, 0.054223668796981477, 0.025436211013651903, 0.058227082926822896, 0.09709463432745837, -0.0351805329545709, -0.00931227545463843, 0.07429760443414844, 0.05618065759025368, 0.13594507462327307, 0.1877636297734968, 0.04629676015371823, 0.12351669600478651, 0.050438872018812315, 0.10663166113000845, 0.04940909942345339, 0.04305693195801288, 0.03309883184049655, 0.015275407723973922, 0.00908905921665752, 0.011038341310823586, 0.027757719647205806, -0.014631854771927974, 0.03032039228529155, 0.0698037028816691, 0.07421281875295067, 0.18178384458348018, 0.020524635019745743, 0.0126051582324783, 0.13597502284128318, 0.08384556578830239, 0.04113109654572621, 0.119681942851519, -0.016722490116380013, 0.10484805778580529, 0.098304076986159, 0.06489371846479158, 0.16050821088068093, 0.12707960117228392, 0.08611556356667442, 0.16878083910413108, -0.008633600603274377, 0.05276478770792321, 0.023882951605441655, -0.014134572154886886, -0.04760511892773322, 0.06653187822313324, 0.03709943349165766, 0.05442047842599288, -0.009700922992218497, 0.02659284092416751, 0.04714694576647064, 0.14688263211270033, 0.01778568726043612, 0.053234516733546455, 0.02144463295877671, 0.04966804190731016, 0.12199023790084276, 0.11229413938200122, 0.002142543924280216, 0.08931829094224188, 0.059760254276174665, 0.045773383029092084, 0.1974698897231738, -0.042688415394373, 0.15858703098469284, 0.06384433829986452, 0.16703277782454207, 0.05232241004806978, 0.08445793081726485, 0.12635713907942778, 0.07063967409126563, 0.09314490800051815, 0.03164296581538671, 0.00018448426326469374, 0.0480662522300883, 0.022284807713636792, 0.13621645097187104, 0.05940520091573319, 0.08201424797155885, 0.09703840482609245, 0.03293044742403567, -0.026790208658529907, 0.13246834980383845, 0.006093272063523881, 0.0018121239778785387, 0.03763860565861317, 0.13632885697090208, 0.07994621903948289, 0.11960360224776614, 0.09650822581036027, 0.09748368324437344, 0.09196569625170478, 0.09733990768046286, 0.08036985122792523, 0.05657035970309715, 0.06616245949776767, 0.09321725041723852, 0.051098172776051116, 0.09293963065114864, 0.05707807194242685, 0.032247680302060266, 0.0828714422196435, 0.06765621846069482, -0.003822538326977791, 0.070139479270602, 0.0008631441134785618, 0.02042861736757252, -0.006758109481591546, 0.020222218211669783, 0.07584429678880321, 0.05494308664428633, 0.0606068277052177, 0.0553800041530465, 0.08236392432158875, -0.02613729866712243, -0.005962487922126006, -0.031124117168245792, -0.019796807550648613, 0.085330129155669, 0.05261250452708384, 0.04460231277241677, 0.008893395239379995, 0.05740769234485825, -0.018105087838168575, -0.003318573880952519, 0.020964699131925935, 0.022112543726118313, 0.0642154083958333, -0.006350732342487977, 0.0685912801610562, -0.017267720468843988, 0.03191196902102334, -0.003650419254276125, -0.0013580193588819307, -0.012274773161638537, 0.06539364457920757, 0.027460149584560157, 0.006126468445689746, 0.004973481374277233, 0.01885212746466548, 0.012576495009172585, -0.010379638238389416, -0.019542941271158132, 0.08283416683448715, 0.030746223125986124, 0.0531578023098576, -0.005680169732650031, 0.10284263462311899, 0.0755300470160109, 0.013133514085743205, 0.07864691552526218, -0.017357613662270403, -0.01754280774119166, 0.02867948110322531, 0.05297175176515084, 0.01531504783255956, 0.012051756870439412, 0.023034438679836868, 0.05265085397499672, -0.023391406971098375, 0.02779465219779306, 0.0306873708100001, 0.07490603971125306, 0.09578719914826217, 0.03612200892908065, -0.03667950031967482, 0.06073052842176995, -0.06051134168817793, -0.036320370767837555, -0.03628256860719685, 0.0480190216983524, 0.021739514857897196, -0.008185442350284124, 0.019845287159756125, -0.010616811527785144, -0.02295588159272576, 0.055098609431545154, 0.14727627285952125, 0.028918054825220703, 0.06413622800385664, 0.001020393637316491, 0.021360241212375012, -0.022132233496127408, 0.033917574861259576, -0.01822402384007602, 0.041294802783662474, 0.07155563057591097, 0.02926078696439202, 0.06278726418875723, -0.011410588371770823, 0.1379671972764552, -0.01680860235719121, 0.010503233464758437, 0.07064622512998459, 0.0419058155471202, 0.005296950139181047, 0.14596352545391963, -0.04364265969044464, -0.03273424461092749, 0.03599389376410065, 0.04055858754357454, -0.0027224075330280805, -0.026792998772805977, 0.06913106065032093, 0.0013256093960182175, 0.12385455755576676, 0.08782995738908898, 0.023531986033548048, 0.09782617704043575, 0.012983360943035673, 0.12915994438829004, 0.029153328286633567, 0.06908268955279577, 0.00041333040500431963, 0.03726950889263121, -0.010463658368014776, 0.07963145032019708, 0.015522886084617616, 0.013815788923866383, 0.03887163148125569, 0.07925069775547552, 0.07293262764340822, -0.0170665134370242, 0.1289868543074862, 0.0634579345788122, 0.06555778441196533, 0.07083040809735958, 0.11636146605754236, 0.013620517628248922, 0.1052375560830247, 0.08254120848730924, 0.18413719114093022, 0.007832524766050699, 0.05324369640265838, 0.08146650040860978, 0.06417845862230506, 0.04698628347468337, 0.049558542713725076, -0.009905367108941876, -0.029497679032690963, 0.03282480593361268, 0.03801971593635447, -0.010092813392693824, 0.04966221955566164, 0.002457151951446375, -0.03799188666326313, 0.0180188524859759, -0.006332406723195482, 0.0059054735935057, 0.05389666045240921, 0.043325402454372205, -0.009505564853703541, 0.14556790040983317, 0.05846030075967549, 0.04718645715060715, 0.07099274241141683, -0.03955136461524153, 0.040965848756581075, 0.07896460854973888, 0.08618090165816818, 0.058930484027429106, 0.026591973594412868, 0.0872120619952535, 0.07431638997691485, 0.04005892026461715, 0.05292103492127369, 0.08039705201073372, -0.008187326527179862, 0.21304045116973533, 0.03868786558428577, 0.015884187622205413, -0.007702485481247132, 0.08155550273085903, 0.06258595460991105, 0.020345060972516336, 0.053700635449087854, 0.03293863514635945, 0.05375181318248024, 0.06582481371006424, 0.0703257403300751, 0.04835396220567508, 0.01443867735162062, 0.0320222022245258, 0.01673374364676142, 0.03625455590631264, 0.0504458808351472, -0.0027201059626437147, 0.08219196876817161, 0.09925280613155135, 0.05901787849690265, -0.016710212835129724, -0.009829535391816347, -0.03206723798241365, 0.07542864275745732, 0.030037405067391894, 0.10534911355406697, 0.03346682491143601, 0.023095424540787782, 0.056582046262539175, -0.010002883380593526, 0.014480740050649444, -0.020856987074645544, -0.012216933016638695, 0.06282753137038642, -0.016338159353997253, -0.014222460469806268, 0.07291103328342305, -0.0020351350699191377, 0.0551887471675662, 0.005535428107181786, -0.015039755895177559, 0.11693935641706679, 0.08425946573858654, -0.01853653947911802, 0.01612040504265001, 0.007362821774249804, 0.11537073862987401, 0.08445635551215047, -0.012156559564827196, 0.03211045830837024, 0.006563307036495082, 0.052303860964353514, 0.03033653986317759, 0.03160667430995895, 0.12033090971669658, 0.0939248956301184, 0.040141332151972, 0.12276466056341302, 0.13243750931475626, -0.005010654190581511, 0.02595597188249189, 0.10877355153592809, 0.0212228634274535, -0.0009817664481599764, 0.09566953870540115, -0.01021390359317127, -0.027406417920851703, 0.07749051199876102, -0.020844719127917306, 0.06820484887316056, -0.0012725393815941166, -0.015583808538366445, 0.0011026128092552925, -0.00927588506677646, 0.04497133751842983, 0.03458847199142222, 0.03691800537321601, 0.04245835946896939, 0.008126661640776774, 0.10330347438386839, 0.07612495188586167, -0.0035246418901682423, -0.01314546034514684, 0.038304191165801145, 0.030691173637890423, 0.0006347427247866956, 0.06235931908178235, -0.03390719560119175, 0.0866132261308066, 0.048721850638092326, -0.03308998188090555, 0.001837203169677043, 0.013481585196203379, -0.018491859126270504, 0.05904539760463435, 0.011900646998861142, 0.06714508877509968, 0.02563986731448096, 0.05082991487317939, -0.0001919248601845656, 0.011193881969551348, 0.11151078926702936, 0.05145576679765531, 0.007241780743468499, 0.06410644927305634, 0.05060300460301064, 0.07722883495922478, 0.07197464546447227, 0.04751856091072596, 0.008917725670093725, 0.05090433437321225, 0.012045280085125508, 0.01467035851265383, 0.029700187671803085, 0.015089233467105863, 0.0605988269416923, -0.007833262831452588, 0.01826624439654126, 0.029492263991106476, 0.024618548664201007, -0.012673120716610036, 0.02100313845085238, 0.0009403311886505186, 0.03941822386092693, -0.014426986190305139, 0.026627120990774963, -0.009317804319368047, 0.010053123428950261, 0.05274575496887951, 0.07796519258608733, 0.032963685110906235, -0.0015954336903839514, 0.08583473087903008, 0.13274436257580066, 0.04467895835543148, 0.03827921663802022, -0.011111644055472557, 0.018143661381750522, 0.033349703161522075, -0.0068732193242447, -0.0474718522274709, 0.00699559952830857, 0.0023882807187353577, 0.07417063563361563, 0.050078146160640595, 0.03391743773998965, -0.010838929989151732, 0.03329505119685755, 0.052498840855385996, 0.02600955412513328, 0.0773554297783657, 0.13544941624310586, 0.03514227906334188, 0.086833129775527, 0.04457210633125201, 0.06644523469411394, -0.016964757442732976, 0.06583721703499752, -0.017254386177237034, 0.10171691360769877, 0.12099416926526481, 0.020971211612571403, 0.04568295231292226, 0.003579149473593664, 0.055834970046185706, 0.03687143415969258, -0.03172590874119911, 0.0874768026525748, 0.10224892661787295, 0.028172776634723926, 0.053933865924790166, 0.09048622679399909, 0.056300597822915306, 0.025886516687779033, -0.022202983619043944, -0.02106956746459278, 0.022043833403601505, 0.042493678413602555, 0.12240510257842098, -0.014200737103662295, -0.0065602933919048255, -0.04083233677393417, 0.015423760147869942, 0.03227624585780582, -0.03072868798226737, -0.019569876228886604, 0.026713460041969398, 0.007910140864575041, 0.07618546961038546, -0.02127295110222305, 0.0439158223201141, 0.0042385649241036116, 0.06526163754958275, -0.03387501076904944, 0.062464568599252306, 0.07074331467274535, 0.10158605043592536, 0.024052308147631436, 0.02967092458762562, 0.04131139371587863, 0.07694078347466028, 0.0705152907990334, 0.04783077486684373, 0.07797980834673367, 0.07113019647409137, 0.13298683533824643, 0.019164373825888755, -0.007629121505311604, 0.08396840962014064, 0.14648935313412034, 0.060347678172533135, 0.07998654787084207, 0.06119605978440024, 0.11843122996138904, 0.06350884501831812, 0.14606290813741057, 0.1281816440156053, 0.20073362794989646, 0.0431733919699202, 0.11383380098934096, 0.0035430479467519274, -0.013902775111293496, 0.0904051656566694, 0.024621414722131526, 0.11198816655075768, 0.059399058770086076, -0.03356212663431846, 0.16313844187588647, 0.03640265792744068, 0.08953029757421581, 0.05660501634676426, 0.06300558365933379, -0.012307136310950866, 0.015179439606120582, 0.03331631442041667, 0.10864012825759839, -0.03740838746613171, 0.0951467263643158, 0.017993567844893938, 0.11481060083366627, 0.04680236567379987, 0.034248064084592945, 0.20105055476618033, -0.029860933618499185, 0.053406781819988154, 0.10012652979064147, 0.05873578844234753, 0.0718827607677852, 0.10280987378918996, 0.1006221728368697, 0.09605169072647027, 0.02962005332945426, 0.08832744437000752, 0.026326063742583124, 0.024618876796707198, 0.06296202759940653, 0.06377354640519246, 0.018782601507134407, 0.058581846517767974, 0.09311088407761552, 0.07375799301849378, 0.12951604893471574, 0.0814358094229486, 0.014030311036956058, 0.11812120943940942, -0.021028268826207657, 0.08064192793305465, 0.06515839653620081, -0.003535459600314661, 0.049367557806722265, -0.02326744544757768, 0.03199208227128944, 0.03205029637079368, 0.023158587170423243, 0.029221600802794994, -0.034235984150390315, 0.05725255911586527, 0.08601001053422748, 0.04395243720915584, 0.029976498171206224, 0.04530911346855827, 0.03245949068196786, 0.10382549202425011, 0.07494595445604069, -0.029643999493668995, 0.09515500872951713, 0.042355645442750056, -0.007821455865624273, 0.12515432070958568, 0.012906079412693878, 0.10481418090110474, 0.043851550011002056, 0.035780530786658986, 0.08538646743542404]\n"
     ]
    }
   ],
   "source": [
    "bones_ratings = ratings_pivot.select('0316666343')\n",
    "#bones_ratings.show()\n",
    "index = 0\n",
    "similar_to_bones = []\n",
    "for c in ratings_pivot.columns:\n",
    "    if index%50 == 0:\n",
    "        print(index)\n",
    "    index += 1\n",
    "    similar_to_bones.append(ratings_pivot.stat.corr('0316666343', c))\n",
    "print(similar_to_bones)"
   ]
  },
  {
   "cell_type": "markdown",
   "metadata": {},
   "source": [
    "сортируем данные по корреляции с нужной нам книгой."
   ]
  },
  {
   "cell_type": "code",
   "execution_count": 42,
   "metadata": {},
   "outputs": [
    {
     "name": "stdout",
     "output_type": "stream",
     "text": [
      "+----------+------------------+\n",
      "|      ISBN|count(book-rating)|\n",
      "+----------+------------------+\n",
      "|0316666343|              1295|\n",
      "|0385504209|               883|\n",
      "|0060928336|               732|\n",
      "|0312195516|               723|\n",
      "|0142001740|               615|\n",
      "|0316601950|               568|\n",
      "|0375727345|               552|\n",
      "|0345337662|               506|\n",
      "|0060930535|               494|\n",
      "|0312278586|               474|\n",
      "|0345370775|               466|\n",
      "|0156027321|               462|\n",
      "|0060976845|               434|\n",
      "|0345361792|               412|\n",
      "|0345417623|               407|\n",
      "|0316769487|               403|\n",
      "|0385484518|               391|\n",
      "|0375706771|               380|\n",
      "|0060502258|               376|\n",
      "|0345353145|               368|\n",
      "+----------+------------------+\n",
      "only showing top 20 rows\n",
      "\n"
     ]
    }
   ],
   "source": [
    "from pyspark.sql.types import FloatType\n",
    "average_rating = ratings.groupBy('ISBN').agg(F.mean('book-rating'), F.count('book-rating')).orderBy('count(book-rating)', ascending=False)\n",
    "s_index = sorted(range(len(similar_to_bones)), key=lambda k: similar_to_bones[k], reverse = True)\n",
    "columns = [ratings_pivot.columns[c] for c in s_index[:300]] \n",
    "similar_to_bones = [similar_to_bones[i] for i in s_index[:300]]\n",
    "\n",
    "isbn_similar = average_rating.where(col('ISBN').isin(columns)).drop('avg(book-rating)')\n",
    "isbn_similar.show()"
   ]
  },
  {
   "cell_type": "markdown",
   "metadata": {},
   "source": [
    "отображаем 10 рекомендованных книг (сама книга тоже попала в список, т.к. корреляция = 1)"
   ]
  },
  {
   "cell_type": "code",
   "execution_count": 43,
   "metadata": {},
   "outputs": [
    {
     "name": "stdout",
     "output_type": "stream",
     "text": [
      "+----------+--------------------+------------------+-------------------+--------------------+--------------------+--------------------+--------------------+\n",
      "|      ISBN|          Book-Title|       Book-Author|Year-Of-Publication|           Publisher|         Image-URL-S|         Image-URL-M|         Image-URL-L|\n",
      "+----------+--------------------+------------------+-------------------+--------------------+--------------------+--------------------+--------------------+\n",
      "|0060173289|Divine Secrets of...|     Rebecca Wells|               1996|       HarperCollins|http://images.ama...|http://images.ama...|http://images.ama...|\n",
      "|006019491X|Daughter of Fortu...|    Isabel Allende|               1999|       HarperCollins|http://images.ama...|http://images.ama...|http://images.ama...|\n",
      "|0060175400|The Poisonwood Bible|Barbara Kingsolver|               1999|       HarperCollins|http://images.ama...|http://images.ama...|http://images.ama...|\n",
      "|0060392452|Stupid White Men ...|     Michael Moore|               2002|         Regan Books|http://images.ama...|http://images.ama...|http://images.ama...|\n",
      "|002542730X|Politically Corre...| James Finn Garner|               1994|John Wiley &amp; ...|http://images.ama...|http://images.ama...|http://images.ama...|\n",
      "|0060199652|     Prodigal Summer|Barbara Kingsolver|               2000|       HarperCollins|http://images.ama...|http://images.ama...|http://images.ama...|\n",
      "|006016848X|Men Are from Mars...|         John Gray|               1992|HarperCollins Pub...|http://images.ama...|http://images.ama...|http://images.ama...|\n",
      "|0060391626|I Know This Much ...|        Wally Lamb|               1998|         Regan Books|http://images.ama...|http://images.ama...|http://images.ama...|\n",
      "|0060096195|   The Boy Next Door|      Meggin Cabot|               2002|          Avon Trade|http://images.ama...|http://images.ama...|http://images.ama...|\n",
      "|0060008032|              Angels|      Marian Keyes|               2003|         HarperTorch|http://images.ama...|http://images.ama...|http://images.ama...|\n",
      "+----------+--------------------+------------------+-------------------+--------------------+--------------------+--------------------+--------------------+\n",
      "\n"
     ]
    }
   ],
   "source": [
    "#books_corr_to_bones =columns[:10] #isbn_similar.select('ISBN').take(10)\n",
    "#print(books_corr_to_bones)\n",
    "isbn =columns[:10]# [x['ISBN'] for x in books_corr_to_bones]\n",
    "books.where(col('ISBN').isin(isbn)).show()"
   ]
  },
  {
   "cell_type": "code",
   "execution_count": null,
   "metadata": {
    "collapsed": true
   },
   "outputs": [],
   "source": []
  }
 ],
 "metadata": {
  "kernelspec": {
   "display_name": "Python 3",
   "language": "python",
   "name": "python3"
  },
  "language_info": {
   "codemirror_mode": {
    "name": "ipython",
    "version": 3
   },
   "file_extension": ".py",
   "mimetype": "text/x-python",
   "name": "python",
   "nbconvert_exporter": "python",
   "pygments_lexer": "ipython3",
   "version": "3.4.3"
  }
 },
 "nbformat": 4,
 "nbformat_minor": 2
}
